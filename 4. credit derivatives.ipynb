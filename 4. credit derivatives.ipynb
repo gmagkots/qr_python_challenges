{
 "cells": [
  {
   "cell_type": "code",
   "execution_count": null,
   "id": "824b5a8c",
   "metadata": {},
   "outputs": [],
   "source": [
    "# Import libraries\n",
    "\n",
    "import numpy as np\n",
    "import pandas as pd\n",
    "from IPython.display import display"
   ]
  },
  {
   "cell_type": "markdown",
   "id": "61295b90",
   "metadata": {},
   "source": [
    "___\n",
    "### Auxiliary functions"
   ]
  },
  {
   "cell_type": "code",
   "execution_count": null,
   "id": "0f37bc35",
   "metadata": {},
   "outputs": [],
   "source": [
    "def remove_outliers(df, s):\n",
    "    \"\"\"\n",
    "    Removes outliers based on the median absolute deviation or\n",
    "    the mean absolute deviation when the former is zero. Only\n",
    "    the column s is looked up for outliers.\n",
    "\n",
    "    :param df: input dataframe\n",
    "    :param s: column to test for outliers\n",
    "    :return: dataframe with outlier rows removed\n",
    "    \"\"\"\n",
    "    # Median Absolute Deviation\n",
    "    term = (df[s] - df[s].median()).abs()\n",
    "    mad = 1.4826 * term.median()\n",
    "\n",
    "    if mad > 0:\n",
    "        df = df[term / mad <= 3]\n",
    "    else:\n",
    "        # Mean Absolute Deviation\n",
    "        mad = 0.7979 * term.mean()\n",
    "        df = df[term / mad <= 3]\n",
    "\n",
    "    return df"
   ]
  },
  {
   "cell_type": "markdown",
   "id": "9fcc5e80",
   "metadata": {},
   "source": [
    "___\n",
    "### Data parsing and processing\n",
    "\n",
    "Although there is latency from physical restrictions within exchanges, the time accuracy within the data is 1 second, which is much larger than the average latency in the real world. Therefore, duplicate records for a security at exactly the same timestamp are possibly different trades rather than data errors."
   ]
  },
  {
   "cell_type": "code",
   "execution_count": null,
   "id": "7b0a851b",
   "metadata": {},
   "outputs": [],
   "source": [
    "# read dataset\n",
    "df = pd.read_csv(\"credit_derivatives_trades.csv\").drop(columns=['Unnamed: 0'])\n",
    "\n",
    "# convert timestamp to datetime\n",
    "df['timestamp'] = pd.to_datetime(df['timestamp'], format=\"%Y-%m-%d %H:%M:%S\")\n",
    "\n",
    "# sanity check\n",
    "df = df[df['notional'] > 0]\n",
    "\n",
    "# sort by ticker and timestamp\n",
    "df = df.sort_values(by=['ticker', 'timestamp']).reset_index(drop=True)"
   ]
  },
  {
   "cell_type": "markdown",
   "id": "26cd4f85",
   "metadata": {},
   "source": [
    "___\n",
    "### Trade flow indicator\n",
    "\n",
    "In the presence of only trade and no quote data, Lee and Ready's (1991) \"tick test\" is a robust algorithm to label trades as \"buy\" or \"sell\". Besides, quote-based methods have the additional burden of identifying the particular quote that triggered the trade.\n",
    "\n",
    "The tick-test labels a trade's direction by comparing its price with that of its preceding trade. A trade is an uptick (downtick) if the price is higher (lower) than the price of the previous trade. When the price is the same, it's a zero tick. If the tick before the zero tick is an uptick (downtick), then the trade is a zero-uptick (zero-downtick). A trade is classified as a \"buy\" if it occurs on an uptick or a zero-uptick, otherwise it's a \"sell\".\n",
    "\n",
    "The tick-test can classify all trades in the trade data without additional information. However, certain irregular trades can be mislabeled. For instance, trades that are recorded out of sequence or include special conditions attached (such as a pre-agreed, non-market price) cannot be labeled. Fortunately, such irregular trades are only a minority among the regular trades.\n",
    "\n",
    "I vectorize the tick-test algorithm by taking first differences on the spreads. Irregular trades will then appear as outliers in the data. Therefore, I remove the outliers from the data.\n",
    "\n",
    "The first differences will give a missing value for the first trade per ticker. Lee and Ready's (1991) suggest setting the first trade as a \"buy\"."
   ]
  },
  {
   "cell_type": "code",
   "execution_count": null,
   "id": "d72508c5",
   "metadata": {},
   "outputs": [],
   "source": [
    "# get the spread's first difference by ticker and replace the missing value for\n",
    "# the first trade per ticker with a positive value to force a \"buy\" label\n",
    "df['dspread'] = df.groupby('ticker')['spread'].diff()\n",
    "df.loc[df['dspread'].isna(), 'dspread'] = 0.0001\n",
    "\n",
    "# remove the outliers (irregular trades)\n",
    "df = df.groupby('ticker').apply(remove_outliers, 'dspread').reset_index(drop=True)\n",
    "\n",
    "# summary statistics for the new variable\n",
    "prc = [0.01, 0.25, 0.5, 0.75, 0.99]\n",
    "print('\\033[1m' + 'Summary Statistics for the Spread First Differences' + '\\033[0m')\n",
    "display(df.groupby('ticker')['dspread'].describe(percentiles=prc).reset_index())\n",
    "\n",
    "# create the trade flow indicator based on spread first difference Δs:\n",
    "# Δs > 0 -> buy, Δs < 0 -> sell, set Δs = 0 cases to missing for now\n",
    "df['direction'] = np.select([df['dspread'] > 0, df['dspread'] < 0],\n",
    "                            ['buy', 'sell'], default=None)\n",
    "\n",
    "# label zero-tick trades in the same direction as their preceding trades\n",
    "df['direction'] = df['direction'].ffill()\n",
    "\n",
    "# show the flow indicator\n",
    "print('\\033[1m' + 'Trade Flow Indicator and Summary Statistics' + '\\033[0m')\n",
    "display(df[['ticker', 'timestamp', 'direction']])\n",
    "\n",
    "# trade flow summary statistics per ticker\n",
    "print('\\033[1m' + 'Trade Flow Indicator and Summary Statistics' + '\\033[0m')\n",
    "display(df.groupby('ticker')['direction'].value_counts())"
   ]
  }
 ],
 "metadata": {
  "kernelspec": {
   "display_name": "Python 3 (ipykernel)",
   "language": "python",
   "name": "python3"
  },
  "language_info": {
   "codemirror_mode": {
    "name": "ipython",
    "version": 3
   },
   "file_extension": ".py",
   "mimetype": "text/x-python",
   "name": "python",
   "nbconvert_exporter": "python",
   "pygments_lexer": "ipython3",
   "version": "3.9.7"
  }
 },
 "nbformat": 4,
 "nbformat_minor": 5
}
